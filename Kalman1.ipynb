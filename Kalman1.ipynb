{
 "cells": [
  {
   "cell_type": "markdown",
   "metadata": {},
   "source": [
    "# Kerék odometria kibővített (EKF) Kálmán-szűrővel\n",
    "\n",
    "## Csúszás nélkül gördülő kerék\n",
    "\n",
    "### A mozgás összefüggéseinek felírása\n",
    "\n",
    "*A munkafüzet (Kalman1.ipnb) és a hozzá tartozó állományok* (./img/\\*, ./dat/a.txt) *interaktívan futtathatók, módosíthatók a [tmpnb.org](https://tmpnb.org/)-ra feltöltés után. Vigyázat! Ott 10 perc inaktivitás után törlődnek az állományok, ezért a változtatásokat célszerű lementeni.*\n",
    "\n",
    "GitHub repo, ahonnan letölthetők a szükséges állományok ([repo](https://github.com/gyulat/odometry-EKF))\n",
    "\n",
    "* Kalman1.ipnb\n",
    "* ./img/*.png\n",
    "* ./dat/a.txt\n",
    "\n",
    "A *csúszás nélkül* gördülő kerék mozgása egyenes haladásból és forgásból áll. A pillanatnyi érintkezési pont zérus sebességű, ahogy az ábráról látható:\n",
    "\n",
    "<img src=\"./img/gordul1.png\" />\n",
    "\n",
    "Az ábrán látható $r_w$ sugarú kerék O középpontjától $r_s$ távolságban rögzített kéttengelyű S gyorsulásmérő szenzor 1. tengelye a sugárra merőlegesen a pozitív forgásirányban (óramutató járásával megegyezően), 2. tengelye a sugár irányában, az O középpont felé mutat. \n",
    "\n",
    "<img src=\"./img/gordul2.png\" />\n",
    "\n",
    "A $\\mathbf{g}$ nehézségi gyorsulás vektornak a szenzor tengelyirányaiba mutató összetevői:\n",
    "\n",
    "$$a_1=-g\\sin(\\theta)$$\n",
    "$$a_2=-g\\cos(\\theta)$$."
   ]
  },
  {
   "cell_type": "markdown",
   "metadata": {},
   "source": [
    "Az O középpontban $\\ddot{p}$ lineáris gyorsulással haladó kerék esetében az S szenzor érzékelő tömegére ellenkező irányú gyorsulás hat az ábra szerint\n",
    "\n",
    "<img src=\"./img/gordul3.png\" />\n",
    "\n",
    "melynek összetevői:\n",
    "\n",
    "$$a_1=\\ddot{p}\\cos(\\theta)$$\n",
    "$$a_2=-\\ddot{p}\\sin(\\theta)$$.\n",
    "\n"
   ]
  },
  {
   "cell_type": "markdown",
   "metadata": {},
   "source": [
    "Végül a kerék gyorsuló forgása miatt fellép $a_1$ irányában centripetális, $a_2$ irányában centrifugális gyorsulás.\n",
    "\n",
    "<img src=\"./img/gordul4.png\" />\n",
    "\n",
    "A kerék csúszás mentes gördülése miatt a $\\theta$ elfordulási szög, a $\\dot\\theta$ szögsebesség és a $\\ddot\\theta$ szöggyorsulás kapcsolatban van a megtett $p$ úttal, a $\\dot{p}$ haladási sebességgel és a $\\ddot{p}$ lineáris gyorsulással:\n",
    "\n",
    "$$\\theta=\\frac{p}{r_w}$$\n",
    "$$\\dot\\theta=\\frac{\\dot{p}}{r_w}$$\n",
    "$$\\ddot\\theta=\\frac{\\ddot{p}}{r_w}$$\n",
    "\n",
    "A szenzor tengelyei irányában fellépő gyorsulások tehát\n",
    "\n",
    "$$a_1=-r_s \\ddot\\theta = -\\frac{r_s}{r_w}\\ddot{p}$$\n",
    "$$a_2=-r_s \\dot\\theta^2 = -\\frac{r_s}{r_w^2}\\dot{p}^2$$\n",
    "\n",
    "A szenzorra ható *teljes* gyorsulás komponensei az előzőek alapján most már felírhatók:\n",
    "\n",
    "$$a_1=-g\\sin(\\frac{p}{r_w})+\\ddot{p}\\cos(\\frac{p}{r_w})-\\frac{r_s}{r_w}\\ddot{p}$$\n",
    "$$a_2=-g\\cos(\\frac{p}{r_w})-\\ddot{p}\\sin(\\frac{p}{r_w})-\\frac{r_s}{r_w^2}\\dot{p}^2$$\n"
   ]
  },
  {
   "cell_type": "markdown",
   "metadata": {},
   "source": [
    "### Állapot és mérési egyenlet\n",
    "\n",
    "A Kálmán-szűrő egyenleteinek felírásához a rendszer $\\mathbf{x}$ *állapot vektorát* a kerék helyzete, sebessége és gyorsulása adja\n",
    "\n",
    "$$\\mathbf{x} = \\begin{bmatrix}\n",
    "p\\\\ \n",
    "\\dot p\\\\ \n",
    "\\ddot p\n",
    "\\end{bmatrix} .$$\n",
    "\n",
    "A $h(\\mathbf{x},\\mathbf{v})$ mérési függvény a mért gyorsulásokat adó *nemlineáris* függvény\n",
    "\n",
    "$$ h(\\mathbf{x},\\mathbf{v}) = \\begin{bmatrix}\n",
    "-g\\sin\\left(\\frac{p}{r_w}\\right)+\\ddot{p}\\cos\\left(\\frac{p}{r_w}\\right)-\\frac{r_s}{r_w}\\ddot{p} + v_1\\\\ \n",
    "-g\\cos\\left(\\frac{p}{r_w}\\right)-\\ddot{p}\\sin\\left(\\frac{p}{r_w}\\right)-\\frac{r_s}{r_w^2}\\dot{p}^2 + v_2\n",
    "\\end{bmatrix} .$$\n",
    "\n",
    "A mérési függvény Python kódja:"
   ]
  },
  {
   "cell_type": "code",
   "execution_count": 1,
   "metadata": {
    "collapsed": true
   },
   "outputs": [],
   "source": [
    "def h(x,rs,rw):\n",
    "    ## mérési egyenlet függvénye\n",
    "    ## x  = állapot vektor (p,pdot,pdotdot)\n",
    "    ## rs = szenzor tengelytől mért távolsága\n",
    "    ## rw = kerék sugara\n",
    "    g = 9.81\n",
    "    h1 = -g*np.sin(x[0]/rw) + x[2]*np.cos(x[0]/rw) - x[2]*rs/rw\n",
    "    h2 = -g*np.cos(x[0]/rw) - x[2]*np.sin(x[0]/rw) - (x[1])**2*rs/(rw**2)\n",
    "    return np.array([h1,h2]).flatten()"
   ]
  },
  {
   "cell_type": "markdown",
   "metadata": {},
   "source": [
    "Az állapot átmenet $A$ mátrixa már linearizálva van:\n",
    "\n",
    "$$ A = \\begin{bmatrix}\n",
    "1 & \\Delta t & \\frac{1}{2}\\Delta t^2 \\\\ \n",
    "0 & 1 & \\Delta t\\\\ \n",
    "0 & 0 & 1\n",
    "\\end{bmatrix}$$\n",
    "\n",
    "Az állapot terjedés Python függvényét tehát egyszerűen megírhatjuk:"
   ]
  },
  {
   "cell_type": "code",
   "execution_count": 2,
   "metadata": {
    "collapsed": true
   },
   "outputs": [],
   "source": [
    "def f(x,dt):\n",
    "    \"\"\" állapot terjedés függvénye\n",
    "     x  = állapot vektor (p,pdot,pdotdot)\n",
    "     dt = időkülönbség\n",
    "    \"\"\"\n",
    "    f1 = x[0] + x[1]*dt + 0.5*x[2]*dt**2\n",
    "    f2 = x[1] + x[2]*dt\n",
    "    f3 = x[2]\n",
    "    return np.array([f1,f2,f3]).flatten()"
   ]
  },
  {
   "cell_type": "markdown",
   "metadata": {},
   "source": [
    "### Kibővített Kálmán-szűrő (Extended Kalman Filter, EKF)\n",
    "\n",
    "A kibővített szűrő a nemlineáris mérési egyenlet **Jacobi** mátrixának felírásával valósítható meg. A mérési egyenlet $H$ Jacobi mátrixa\n",
    "\n",
    "$$ H = \\begin{bmatrix}\n",
    "-\\frac{g}{r_w}\\cos\\left(\\frac{p}{r_w}\\right)-\\frac{\\ddot{p}}{r_w}\\sin\\left(\\frac{p}{r_w}\\right) & 0 & \\cos\\left(\\frac{p}{r_w}\\right)-\\frac{r_s}{r_w}\\\\ \n",
    "\\frac{g}{r_w}\\sin\\left(\\frac{p}{r_w}\\right)-\\frac{\\ddot{p}}{r_w}\\cos\\left(\\frac{p}{r_w}\\right) & -2\\frac{r_s}{r_w^2}\\dot{p} & -\\sin\\left(\\frac{p}{r_w}\\right)\n",
    "\\end{bmatrix} .$$\n",
    "\n",
    "A sztochasztikus modellhez felvett állapot zaj variancia $q=0.07 m/s^2$, a mért gyorsulások hiba varianciája $r_1=r_2=5 m/s^2$.\n",
    "\n",
    "Az alábbi Python függvény számítja ki a $H$ mátrixot:"
   ]
  },
  {
   "cell_type": "code",
   "execution_count": 3,
   "metadata": {
    "collapsed": true
   },
   "outputs": [],
   "source": [
    "def H(x,rs,rw):\n",
    "    ## a mérési egyenlet függvényének Jacobi-mátrixa\n",
    "    ## x  = állapot vektor (p,pdot,pdotdot)\n",
    "    ## rs = szenzor tengelytől mért távolsága\n",
    "    ## rw = kerék sugara\n",
    "    g = 9.81\n",
    "    H = np.zeros((2,3))\n",
    "    H[0,0] = -g/rw*np.cos(x[0]/rw) - x[2]/rw*np.sin(x[0]/rw)\n",
    "    H[0,1] = 0.0\n",
    "    H[0,2] = np.cos(x[0]/rw)- rs/rw\n",
    "    H[1,0] = g/rw*np.sin(x[0]/rw) - x[2]/rw*np.cos(x[0]/rw)\n",
    "    H[1,1] = -2*x[1]*rs/(rw**2)\n",
    "    H[1,2] = -np.sin(x[0]/rw)\n",
    "    return H"
   ]
  },
  {
   "cell_type": "markdown",
   "metadata": {},
   "source": [
    "### Teszt adatok\n",
    "\n",
    "A kibővített Kálmán-szűrést [Gersdorf B., Frese U. (2013)](https://pdfs.semanticscholar.org/ab65/2f5c812b580f1c6b154161317b2bb9434655.pdf) cikkéből vett [gyorsulás adatokkal](./dat/a.txt) teszteljük. "
   ]
  },
  {
   "cell_type": "code",
   "execution_count": 4,
   "metadata": {
    "collapsed": false
   },
   "outputs": [],
   "source": [
    "# -*- coding:utf-8 -*-\n",
    "import numpy as np\n",
    "import matplotlib.pyplot as plt\n",
    "\n",
    "data = np.loadtxt(\"./dat/a.txt\")\n",
    "t = data[:,0]\n",
    "a1= data[:,1]\n",
    "a2= data[:,2]"
   ]
  },
  {
   "cell_type": "markdown",
   "metadata": {},
   "source": [
    "A kibővített Kálmán-szűrés egy lépésében kiszámítjuk a rendszerállapot predikcióját majd mindig az újabb $\\mathbf{z}_k$ méréssel frissítjük az állapot becslését.\n",
    "\n",
    "predikció:\n",
    "\n",
    "$$ \\hat{\\mathbf{x}}_k^-{} = f(\\mathbf{x}_k)$$\n",
    "$$ \\mathbf{P}_k^-{} = \\mathbf{A} \\mathbf{P}_k \\mathbf{A}^T + \\mathbf{Q} $$\n",
    "\n",
    "frissítés:\n",
    "\n",
    "$$ \\mathbf{K}_k = \\mathbf{P}_k^-{} \\mathbf{H}_k^T (\\mathbf{H} \\mathbf{P}_k^-{} \\mathbf{H}^T + \\mathbf{R})^{-1} $$\n",
    "$$ \\hat{\\mathbf{x}}_k = \\hat{\\mathbf{x}}_k^-{} + \\mathbf{K}_k (\\mathbf{z}_k - h(\\hat{\\mathbf{x}}_k^-{}) $$\n",
    "$$ \\mathbf{P}_k = \\mathbf{P}_k^-{} - \\mathbf{K}_k \\mathbf{H} \\mathbf{P}_k^-{} $$\n",
    "\n",
    "A lépést megvalósító Python függvény:"
   ]
  },
  {
   "cell_type": "code",
   "execution_count": 5,
   "metadata": {
    "collapsed": true
   },
   "outputs": [],
   "source": [
    "def EKFstep(xk,Pk,A,H,Q,R,zk,dt,rs,rw):\n",
    "    \"\"\"a kibővített Kálmán-szűrő egy lépése\n",
    "    \"\"\"\n",
    "    # állapot frissítése\n",
    "    xkm = f(xk,dt)\n",
    "    Pkm = np.dot(np.dot(A,Pk),A.T) + Q\n",
    "    # újabb mérés, frissítés\n",
    "    Kk = np.dot(Pkm,np.dot(H.T,np.linalg.pinv(np.dot(np.dot(H,Pkm),H.T) + R)))\n",
    "    xk1 = xkm + np.dot(Kk,(zk - h(xkm,rs,rw)))\n",
    "    Pk1 = Pkm - np.dot(np.dot(Kk,H),Pkm)\n",
    "\n",
    "    return xk1,Pk1"
   ]
  },
  {
   "cell_type": "markdown",
   "metadata": {},
   "source": [
    "A számítást az **EKFWheel**(t,a1,a2,q,r) függvényben programoztuk. A függvény paraméterei a következők:\n",
    "*  t: a mérési időpontok vektora\n",
    "* a1, a2: a gyorsulásmérő szenzor adatai a t-vel megadott időpontokban\n",
    "*  q: folyamat zaj\n",
    "*  r: mérési zaj\n",
    "\n",
    "A függvény az xe mátrixban adja vissza a becsült rendszer állapotot és a $-\\pi \\le \\theta \\le \\pi$ közé eső szögértékeket.\n",
    "\n",
    "A függvény Python kódja:"
   ]
  },
  {
   "cell_type": "code",
   "execution_count": 6,
   "metadata": {
    "collapsed": true
   },
   "outputs": [],
   "source": [
    "def EKFwheel(t,a1,a2,q=0.07,r=5):\n",
    "    \"\"\"\n",
    "    Kibővített Kálmán-szűrő kéttengelyű gyorsulásmérő szenzoros odometriához\n",
    "     t - mérési időpontok vektora\n",
    "     a1, a2 - mért szenzor centripetális és centrifugális gyorsulások (m/s**2)\n",
    "     q - folyamat zaj variancia (m/s**2)\n",
    "     r - mérési zaj variancia (m/s**2)\n",
    "    \"\"\"\n",
    "    # szenzor tengelytávolsága és a kerék sugara (Samsung Galaxy S2 biciklire szerelve)\n",
    "    rs = 0.095  # méter\n",
    "    rw = 0.35   # méter\n",
    "    nt = t.shape[0]\n",
    "\n",
    "    # állapot vektor: t, p,vel,acc,theta\n",
    "    xe = np.zeros((nt,5))\n",
    "    xe[:,0]=t\n",
    "    # indítás\n",
    "    Q = q**2*np.eye(3)\n",
    "    R = r**2*np.eye(2)\n",
    "    xk = np.zeros((3,1))\n",
    "    Pk = q**2*np.diag([0, 0, 1])\n",
    "    Ak = np.zeros((3,3))\n",
    "\n",
    "    for i in range(1,nt):\n",
    "        dt = t[i]-t[i-1]\n",
    "        Hk = H(xk,rs,rw)\n",
    "        A = np.eye(3)+ np.array([[0,dt,0.5*dt**2], [0,0,dt], [0,0,0]])\n",
    "        zk = np.array([a1[i],a2[i]])\n",
    "        # EKF lépés\n",
    "        xk1,Pk1 = EKFstep(xk,Pk,A,Hk,Q,R,zk,dt,rs,rw)\n",
    "        xe[i,1:4] = xk1\n",
    "        xk = xk1  # állapot frissítése\n",
    "        Pk = Pk1  # állapot kovariancia frissítése\n",
    "        om = xk1[0]/rw  # kerék elfordulási szöge\n",
    "        xe[i,4]=np.arctan2(np.sin(om),np.cos(om));  # szög: (-pi, pi)\n",
    "\n",
    "    return xe"
   ]
  },
  {
   "cell_type": "markdown",
   "metadata": {},
   "source": [
    "Ezek után elvégezhetjük a szűrést:"
   ]
  },
  {
   "cell_type": "code",
   "execution_count": 7,
   "metadata": {
    "collapsed": false
   },
   "outputs": [],
   "source": [
    "xe = EKFwheel(t,a1,a2,0.07,5.0)"
   ]
  },
  {
   "cell_type": "markdown",
   "metadata": {},
   "source": [
    "Végül kirajzoltatjuk a kibővített Kálmán-szűrővel kapott eredményeket:"
   ]
  },
  {
   "cell_type": "code",
   "execution_count": 8,
   "metadata": {
    "collapsed": false
   },
   "outputs": [
    {
     "data": {
      "image/png": "[encoded data removed]",
      "text/plain": [
       "<matplotlib.figure.Figure at 0x7f6ed42dff90>"
      ]
     },
     "metadata": {},
     "output_type": "display_data"
    }
   ],
   "source": [
    "%matplotlib inline\n",
    "plt.plot(xe[:,0],xe[:,1], 'b-', label=u'EKF távolság, m')\n",
    "plt.plot(xe[:,0],xe[:,2], 'g-', label=u'EKF sebesség, m/s')\n",
    "plt.plot(xe[:,0],xe[:,3], 'r-', label=u'EKF gyorsulás, m/s^2')\n",
    "plt.plot(xe[:,0],xe[:,4], color='orange', label=u'elfordulás szöge, rad')\n",
    "plt.xlim(1,11)\n",
    "plt.grid(color='grey')\n",
    "plt.title(u'Kibövített Kálmán-szűrő (EKF) eredmények', fontweight='bold')\n",
    "plt.xlabel(u'idő (s)')\n",
    "plt.legend(loc='upper left', shadow=False, prop={'size':8}) \n",
    "plt.show()"
   ]
  }
 ],
 "metadata": {
  "kernelspec": {
   "display_name": "Python 2",
   "language": "python",
   "name": "python2"
  },
  "language_info": {
   "codemirror_mode": {
    "name": "ipython",
    "version": 2
   },
   "file_extension": ".py",
   "mimetype": "text/x-python",
   "name": "python",
   "nbconvert_exporter": "python",
   "pygments_lexer": "ipython2",
   "version": "2.7.6"
  }
 },
 "nbformat": 4,
 "nbformat_minor": 0
}
